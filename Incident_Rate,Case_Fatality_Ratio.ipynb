{
 "cells": [
  {
   "cell_type": "markdown",
   "id": "7204a650",
   "metadata": {},
   "source": [
    "### 1. Imports"
   ]
  },
  {
   "cell_type": "code",
   "execution_count": 1,
   "id": "a992a94f",
   "metadata": {},
   "outputs": [],
   "source": [
    "import os\n",
    "import pandas as pd\n",
    "from datetime import datetime\n"
   ]
  },
  {
   "cell_type": "markdown",
   "id": "4045db9d",
   "metadata": {},
   "source": [
    "### 2. Reading Data Files"
   ]
  },
  {
   "cell_type": "code",
   "execution_count": 9,
   "id": "ad5cbc2e",
   "metadata": {},
   "outputs": [],
   "source": [
    "df=pd.read_csv(\"data/combine_monthly_summary.csv\")"
   ]
  },
  {
   "cell_type": "markdown",
   "id": "7429f9af",
   "metadata": {},
   "source": [
    "### 3. Explore the Columns\n",
    "\n",
    ">Keep only the relevant columns for aggregation:"
   ]
  },
  {
   "cell_type": "code",
   "execution_count": 10,
   "id": "c34cec32",
   "metadata": {},
   "outputs": [],
   "source": [
    "df = df[['Country_Region', 'Confirmed', 'Deaths', 'Recovered', 'Active', 'Incidence_Rate', 'Case-Fatality_Ratio']]"
   ]
  },
  {
   "cell_type": "markdown",
   "id": "10980e92",
   "metadata": {},
   "source": [
    "### 4. Handle Missing Values"
   ]
  },
  {
   "cell_type": "code",
   "execution_count": 11,
   "id": "a4a3644b",
   "metadata": {},
   "outputs": [],
   "source": [
    "df[['Confirmed', 'Deaths', 'Recovered', 'Active']] = df[['Confirmed', 'Deaths', 'Recovered', 'Active']].fillna(0)"
   ]
  },
  {
   "cell_type": "markdown",
   "id": "406b4595",
   "metadata": {},
   "source": [
    "### 5. Group by country and date to aggregate per country per month\n",
    "\n",
    ">sum the absolute numbers (Confirmed, Deaths, etc.), then calculate the average of the ratios based on weighted values."
   ]
  },
  {
   "cell_type": "code",
   "execution_count": 12,
   "id": "78fdce51",
   "metadata": {},
   "outputs": [],
   "source": [
    "grouped = df.groupby(['Country_Region']).agg({\n",
    "    'Confirmed': 'sum',\n",
    "    'Deaths': 'sum',\n",
    "    'Recovered': 'sum',\n",
    "    'Active': 'sum'\n",
    "}).reset_index()"
   ]
  },
  {
   "cell_type": "markdown",
   "id": "0a773866",
   "metadata": {},
   "source": [
    "### 6. Recalculate Incidence_Rate and Case-Fatality_Ratio\n",
    "\n",
    ">calculate: Case-Fatality Ratio = (Total Deaths / Total Confirmed) × 100\n",
    "\n"
   ]
  },
  {
   "cell_type": "code",
   "execution_count": 13,
   "id": "1d9357b8",
   "metadata": {},
   "outputs": [],
   "source": [
    "grouped['Case_Fatality_Ratio'] = (grouped['Deaths'] / grouped['Confirmed'].replace(0, pd.NA)) * 100\n"
   ]
  },
  {
   "cell_type": "code",
   "execution_count": 14,
   "id": "ebfd89e0",
   "metadata": {},
   "outputs": [
    {
     "name": "stderr",
     "output_type": "stream",
     "text": [
      "/var/folders/8m/rfsmltyn01b1h7rd54xtgnvw0000gn/T/ipykernel_2486/584133253.py:2: FutureWarning: DataFrameGroupBy.apply operated on the grouping columns. This behavior is deprecated, and in a future version of pandas the grouping columns will be excluded from the operation. Either pass `include_groups=False` to exclude the groupings or explicitly select the grouping columns after groupby to silence this warning.\n",
      "  incidence = df.groupby(['Country_Region']).apply(\n"
     ]
    }
   ],
   "source": [
    "# Optional: average incidence rate from original df (weighted by Confirmed cases)\n",
    "incidence = df.groupby(['Country_Region']).apply(\n",
    "    lambda x: (x['Incidence_Rate'] * x['Confirmed']).sum() / x['Confirmed'].sum()\n",
    ").reset_index(name='Incidence_Rate')\n",
    "\n",
    "# Merge it back\n",
    "grouped = pd.merge(grouped, incidence, on=['Country_Region'], how='left')\n"
   ]
  },
  {
   "cell_type": "code",
   "execution_count": 15,
   "id": "1db0ea80",
   "metadata": {},
   "outputs": [
    {
     "name": "stdout",
     "output_type": "stream",
     "text": [
      "  Country_Region  Confirmed    Deaths  Recovered    Active  \\\n",
      "0    Afghanistan  4525451.0  187722.0   628985.0  203169.0   \n",
      "1        Albania  6514581.0   86161.0   790006.0  181308.0   \n",
      "2        Algeria  6346085.0  169508.0   886854.0  370672.0   \n",
      "3        Andorra   866288.0    4386.0   106824.0    6595.0   \n",
      "4         Angola  2106830.0   42861.0   207288.0   44945.0   \n",
      "\n",
      "   Case_Fatality_Ratio  Incidence_Rate  \n",
      "0             4.148139        4.132967  \n",
      "1             1.322587        3.990435  \n",
      "2             2.671064        3.305196  \n",
      "3             0.506298       45.381234  \n",
      "4             2.034383        0.216509  \n"
     ]
    }
   ],
   "source": [
    "print(grouped.head())"
   ]
  }
 ],
 "metadata": {
  "kernelspec": {
   "display_name": "Python 3",
   "language": "python",
   "name": "python3"
  },
  "language_info": {
   "codemirror_mode": {
    "name": "ipython",
    "version": 3
   },
   "file_extension": ".py",
   "mimetype": "text/x-python",
   "name": "python",
   "nbconvert_exporter": "python",
   "pygments_lexer": "ipython3",
   "version": "3.9.6"
  }
 },
 "nbformat": 4,
 "nbformat_minor": 5
}
